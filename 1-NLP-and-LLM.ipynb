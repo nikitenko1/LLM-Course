{
 "cells": [
  {
   "cell_type": "markdown",
   "id": "fc2a8eb8",
   "metadata": {},
   "source": [
    "### Natural Language Processing and Large Language Models"
   ]
  },
  {
   "cell_type": "code",
   "execution_count": null,
   "id": "77f1420f",
   "metadata": {},
   "outputs": [],
   "source": [
    "'''NLP is a field of linguistics and machine learning focused on understanding everything related to human language'''"
   ]
  },
  {
   "cell_type": "code",
   "execution_count": null,
   "id": "b3ae9d38",
   "metadata": {},
   "outputs": [],
   "source": [
    "'''NLP isn’t limited to written text though. It also tackles complex challenges in speech recognition and computer vision, \n",
    "such as generating a transcript of an audio sample or a description of an image.'''"
   ]
  },
  {
   "cell_type": "code",
   "execution_count": null,
   "id": "02434fd0",
   "metadata": {},
   "outputs": [],
   "source": [
    "'''Large Language Models (LLMs)'''"
   ]
  },
  {
   "cell_type": "code",
   "execution_count": null,
   "id": "dbddf99b",
   "metadata": {},
   "outputs": [],
   "source": [
    "'''A large language model (LLM) is an AI model trained on massive amounts of text data that can understand \n",
    "and generate human-like text, recognize patterns in language, and perform a wide variety of language tasks \n",
    "without task-specific training. \n",
    "They represent a significant advancement in the field of natural language processing (NLP).'''"
   ]
  },
  {
   "cell_type": "markdown",
   "id": "f67daae6",
   "metadata": {},
   "source": [
    "#### @However, LLMs also have important limitations:"
   ]
  },
  {
   "cell_type": "code",
   "execution_count": null,
   "id": "2a8c4119",
   "metadata": {},
   "outputs": [],
   "source": [
    "'''\n",
    "* Hallucinations: They can generate incorrect information confidently\n",
    "* Lack of true understanding: They lack true understanding of the world and operate purely on statistical patterns\n",
    "* Bias: They may reproduce biases present in their training data or inputs.\n",
    "* Context windows: They have limited context windows (though this is improving)\n",
    "* Computational resources: They require significant computational resources\n",
    "'''"
   ]
  },
  {
   "cell_type": "markdown",
   "id": "17d8fbcd",
   "metadata": {},
   "source": []
  }
 ],
 "metadata": {
  "language_info": {
   "name": "python"
  }
 },
 "nbformat": 4,
 "nbformat_minor": 5
}
