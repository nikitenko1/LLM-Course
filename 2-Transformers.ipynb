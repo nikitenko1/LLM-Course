{
 "cells": [
  {
   "cell_type": "markdown",
   "id": "c349f558",
   "metadata": {},
   "source": [
    "### Transformers"
   ]
  },
  {
   "cell_type": "markdown",
   "id": "ba937fee",
   "metadata": {},
   "source": [
    "The most basic object in the 🤗 Transformers library is the pipeline() function"
   ]
  },
  {
   "cell_type": "code",
   "execution_count": null,
   "id": "8c004857",
   "metadata": {},
   "outputs": [],
   "source": [
    "'''It connects a model with its necessary preprocessing and postprocessing steps, \n",
    "allowing us to directly input any text and get an intelligible answer:'''"
   ]
  },
  {
   "cell_type": "code",
   "execution_count": 1,
   "id": "0ac51520",
   "metadata": {},
   "outputs": [],
   "source": [
    "from transformers import pipeline"
   ]
  },
  {
   "cell_type": "code",
   "execution_count": 2,
   "id": "416f8773",
   "metadata": {},
   "outputs": [
    {
     "name": "stderr",
     "output_type": "stream",
     "text": [
      "No model was supplied, defaulted to distilbert/distilbert-base-uncased-finetuned-sst-2-english and revision 714eb0f (https://huggingface.co/distilbert/distilbert-base-uncased-finetuned-sst-2-english).\n",
      "Using a pipeline without specifying a model name and revision in production is not recommended.\n"
     ]
    },
    {
     "data": {
      "application/vnd.jupyter.widget-view+json": {
       "model_id": "cbe3c5aaae244e6b952fc776e2ef00e3",
       "version_major": 2,
       "version_minor": 0
      },
      "text/plain": [
       "config.json:   0%|          | 0.00/629 [00:00<?, ?B/s]"
      ]
     },
     "metadata": {},
     "output_type": "display_data"
    },
    {
     "name": "stderr",
     "output_type": "stream",
     "text": [
      "c:\\Users\\38067\\AppData\\Local\\Programs\\Python\\Python311\\Lib\\site-packages\\huggingface_hub\\file_download.py:143: UserWarning: `huggingface_hub` cache-system uses symlinks by default to efficiently store duplicated files but your machine does not support them in C:\\Users\\38067\\.cache\\huggingface\\hub\\models--distilbert--distilbert-base-uncased-finetuned-sst-2-english. Caching files will still work but in a degraded version that might require more space on your disk. This warning can be disabled by setting the `HF_HUB_DISABLE_SYMLINKS_WARNING` environment variable. For more details, see https://huggingface.co/docs/huggingface_hub/how-to-cache#limitations.\n",
      "To support symlinks on Windows, you either need to activate Developer Mode or to run Python as an administrator. In order to activate developer mode, see this article: https://docs.microsoft.com/en-us/windows/apps/get-started/enable-your-device-for-development\n",
      "  warnings.warn(message)\n",
      "Xet Storage is enabled for this repo, but the 'hf_xet' package is not installed. Falling back to regular HTTP download. For better performance, install the package with: `pip install huggingface_hub[hf_xet]` or `pip install hf_xet`\n"
     ]
    },
    {
     "data": {
      "application/vnd.jupyter.widget-view+json": {
       "model_id": "6dc6b0f24da9482d92e6515f121c1d98",
       "version_major": 2,
       "version_minor": 0
      },
      "text/plain": [
       "model.safetensors:   0%|          | 0.00/268M [00:00<?, ?B/s]"
      ]
     },
     "metadata": {},
     "output_type": "display_data"
    },
    {
     "data": {
      "application/vnd.jupyter.widget-view+json": {
       "model_id": "dacc1f0b700246f1b4d237d7cedd0cb9",
       "version_major": 2,
       "version_minor": 0
      },
      "text/plain": [
       "tokenizer_config.json:   0%|          | 0.00/48.0 [00:00<?, ?B/s]"
      ]
     },
     "metadata": {},
     "output_type": "display_data"
    },
    {
     "data": {
      "application/vnd.jupyter.widget-view+json": {
       "model_id": "9b88f1457fad4ee08f1942c7d4a44495",
       "version_major": 2,
       "version_minor": 0
      },
      "text/plain": [
       "vocab.txt: 0.00B [00:00, ?B/s]"
      ]
     },
     "metadata": {},
     "output_type": "display_data"
    },
    {
     "name": "stderr",
     "output_type": "stream",
     "text": [
      "Device set to use cpu\n"
     ]
    },
    {
     "data": {
      "text/plain": [
       "[{'label': 'POSITIVE', 'score': 0.9598049521446228}]"
      ]
     },
     "execution_count": 2,
     "metadata": {},
     "output_type": "execute_result"
    }
   ],
   "source": [
    "classifier = pipeline(\"sentiment-analysis\")\n",
    "classifier(\"I've been waiting for a HuggingFace course my whole life.\")"
   ]
  },
  {
   "cell_type": "code",
   "execution_count": 3,
   "id": "a865cf0f",
   "metadata": {},
   "outputs": [
    {
     "data": {
      "text/plain": [
       "[{'label': 'POSITIVE', 'score': 0.9598049521446228},\n",
       " {'label': 'NEGATIVE', 'score': 0.9994558691978455}]"
      ]
     },
     "execution_count": 3,
     "metadata": {},
     "output_type": "execute_result"
    }
   ],
   "source": [
    "'''We can even pass several sentences!'''\n",
    "classifier(\n",
    "    [\"I've been waiting for a HuggingFace course my whole life.\", \"I hate this so much!\"]\n",
    ")"
   ]
  },
  {
   "cell_type": "code",
   "execution_count": null,
   "id": "7220ebad",
   "metadata": {},
   "outputs": [],
   "source": [
    "'''By default, this pipeline selects a particular pretrained model that has been fine-tuned for sentiment analysis in English. The model is downloaded and cached when you create the classifier object. \n",
    "If you rerun the command, the cached model will be used instead and there is no need to download the model again'''"
   ]
  },
  {
   "cell_type": "code",
   "execution_count": null,
   "id": "a2d2ef9a",
   "metadata": {},
   "outputs": [],
   "source": [
    "'''There are three main steps involved when you pass some text to a pipeline:\n",
    "\n",
    "The text is preprocessed into a format the model can understand.\n",
    "The preprocessed inputs are passed to the model.\n",
    "The predictions of the model are post-processed, so you can make sense of them.'''"
   ]
  },
  {
   "cell_type": "markdown",
   "id": "101897f9",
   "metadata": {},
   "source": [
    "#### @Text pipelines"
   ]
  },
  {
   "cell_type": "markdown",
   "id": "4d0bde92",
   "metadata": {},
   "source": [
    "> text-generation: Generate text from a prompt\n",
    ">> text-classification: Classify text into predefined categories\n",
    ">>> summarization: Create a shorter version of a text while preserving key information\n",
    ">>>> translation: Translate text from one language to another\n",
    ">>>>> zero-shot-classification: Classify text without prior training on specific labels\n",
    ">>>>>> feature-extraction: Extract vector representations of text"
   ]
  },
  {
   "cell_type": "markdown",
   "id": "eb3e2f20",
   "metadata": {},
   "source": [
    "#### @Image pipelines"
   ]
  },
  {
   "cell_type": "markdown",
   "id": "baf5cf77",
   "metadata": {},
   "source": [
    "> image-to-text: Generate text descriptions of images\n",
    ">> image-classification: Identify objects in an image\n",
    ">>> object-detection: Locate and identify objects in images"
   ]
  },
  {
   "cell_type": "markdown",
   "id": "80cdf882",
   "metadata": {},
   "source": [
    "#### @Audio pipelines"
   ]
  },
  {
   "cell_type": "markdown",
   "id": "f9bf2f2d",
   "metadata": {},
   "source": [
    "> automatic-speech-recognition: Convert speech to text\n",
    ">> audio-classification: Classify audio into categories\n",
    ">>> text-to-speech: Convert text to spoken audio"
   ]
  },
  {
   "cell_type": "markdown",
   "id": "5f0d331c",
   "metadata": {},
   "source": [
    "#### @Multimodal pipelines"
   ]
  },
  {
   "cell_type": "markdown",
   "id": "167f378d",
   "metadata": {},
   "source": [
    "> image-text-to-text: Respond to an image based on a text prompt"
   ]
  },
  {
   "cell_type": "markdown",
   "id": "b5ac0729",
   "metadata": {},
   "source": [
    "---"
   ]
  },
  {
   "cell_type": "markdown",
   "id": "29fe0e57",
   "metadata": {},
   "source": [
    "### Zero-shot classification"
   ]
  },
  {
   "cell_type": "code",
   "execution_count": null,
   "id": "312c6ebe",
   "metadata": {},
   "outputs": [],
   "source": [
    "'''We’ll start by tackling a more challenging task where we need to classify texts that haven’t been labelled'''"
   ]
  },
  {
   "cell_type": "code",
   "execution_count": 4,
   "id": "e9652fa7",
   "metadata": {},
   "outputs": [
    {
     "name": "stderr",
     "output_type": "stream",
     "text": [
      "No model was supplied, defaulted to facebook/bart-large-mnli and revision d7645e1 (https://huggingface.co/facebook/bart-large-mnli).\n",
      "Using a pipeline without specifying a model name and revision in production is not recommended.\n"
     ]
    },
    {
     "data": {
      "application/vnd.jupyter.widget-view+json": {
       "model_id": "14bef94c1d3a44e9b68454f3397aca8b",
       "version_major": 2,
       "version_minor": 0
      },
      "text/plain": [
       "config.json: 0.00B [00:00, ?B/s]"
      ]
     },
     "metadata": {},
     "output_type": "display_data"
    },
    {
     "name": "stderr",
     "output_type": "stream",
     "text": [
      "c:\\Users\\38067\\AppData\\Local\\Programs\\Python\\Python311\\Lib\\site-packages\\huggingface_hub\\file_download.py:143: UserWarning: `huggingface_hub` cache-system uses symlinks by default to efficiently store duplicated files but your machine does not support them in C:\\Users\\38067\\.cache\\huggingface\\hub\\models--facebook--bart-large-mnli. Caching files will still work but in a degraded version that might require more space on your disk. This warning can be disabled by setting the `HF_HUB_DISABLE_SYMLINKS_WARNING` environment variable. For more details, see https://huggingface.co/docs/huggingface_hub/how-to-cache#limitations.\n",
      "To support symlinks on Windows, you either need to activate Developer Mode or to run Python as an administrator. In order to activate developer mode, see this article: https://docs.microsoft.com/en-us/windows/apps/get-started/enable-your-device-for-development\n",
      "  warnings.warn(message)\n",
      "Xet Storage is enabled for this repo, but the 'hf_xet' package is not installed. Falling back to regular HTTP download. For better performance, install the package with: `pip install huggingface_hub[hf_xet]` or `pip install hf_xet`\n"
     ]
    },
    {
     "data": {
      "application/vnd.jupyter.widget-view+json": {
       "model_id": "8399f245efe240fc8c8e25ff33516404",
       "version_major": 2,
       "version_minor": 0
      },
      "text/plain": [
       "model.safetensors:   0%|          | 0.00/1.63G [00:00<?, ?B/s]"
      ]
     },
     "metadata": {},
     "output_type": "display_data"
    },
    {
     "data": {
      "application/vnd.jupyter.widget-view+json": {
       "model_id": "adf61906ac4f4334b964973b61b8a3c6",
       "version_major": 2,
       "version_minor": 0
      },
      "text/plain": [
       "tokenizer_config.json:   0%|          | 0.00/26.0 [00:00<?, ?B/s]"
      ]
     },
     "metadata": {},
     "output_type": "display_data"
    },
    {
     "data": {
      "application/vnd.jupyter.widget-view+json": {
       "model_id": "35d625339cd74beab41015d9f28ee8f7",
       "version_major": 2,
       "version_minor": 0
      },
      "text/plain": [
       "vocab.json: 0.00B [00:00, ?B/s]"
      ]
     },
     "metadata": {},
     "output_type": "display_data"
    },
    {
     "data": {
      "application/vnd.jupyter.widget-view+json": {
       "model_id": "521576a2328d41888fdbf3d249a69f36",
       "version_major": 2,
       "version_minor": 0
      },
      "text/plain": [
       "merges.txt: 0.00B [00:00, ?B/s]"
      ]
     },
     "metadata": {},
     "output_type": "display_data"
    },
    {
     "data": {
      "application/vnd.jupyter.widget-view+json": {
       "model_id": "08a8cc0cc51644a4ba23aab96b714b7f",
       "version_major": 2,
       "version_minor": 0
      },
      "text/plain": [
       "tokenizer.json: 0.00B [00:00, ?B/s]"
      ]
     },
     "metadata": {},
     "output_type": "display_data"
    },
    {
     "name": "stderr",
     "output_type": "stream",
     "text": [
      "Device set to use cpu\n"
     ]
    },
    {
     "data": {
      "text/plain": [
       "{'sequence': 'This is a course about the Transformers library',\n",
       " 'labels': ['education', 'business', 'politics'],\n",
       " 'scores': [0.8445985913276672, 0.11197449266910553, 0.04342692717909813]}"
      ]
     },
     "execution_count": 4,
     "metadata": {},
     "output_type": "execute_result"
    }
   ],
   "source": [
    "classifier = pipeline(\"zero-shot-classification\")\n",
    "classifier(\n",
    "    \"This is a course about the Transformers library\",\n",
    "    candidate_labels=[\"education\", \"politics\", \"business\"],\n",
    ")"
   ]
  },
  {
   "cell_type": "code",
   "execution_count": null,
   "id": "7bbff413",
   "metadata": {},
   "outputs": [],
   "source": [
    "'''This pipeline is called zero-shot because you don’t need to fine-tune the model on your data to use it. \n",
    "It can directly return probability scores for any list of labels you want!'''"
   ]
  },
  {
   "cell_type": "markdown",
   "id": "41580d0b",
   "metadata": {},
   "source": [
    "#### @Text generation"
   ]
  },
  {
   "cell_type": "code",
   "execution_count": null,
   "id": "d5c67023",
   "metadata": {},
   "outputs": [],
   "source": [
    "'''The main idea here is that you provide a prompt and the model will auto-complete it by generating the remaining text'''"
   ]
  },
  {
   "cell_type": "code",
   "execution_count": 5,
   "id": "ff02d490",
   "metadata": {},
   "outputs": [
    {
     "name": "stderr",
     "output_type": "stream",
     "text": [
      "No model was supplied, defaulted to openai-community/gpt2 and revision 607a30d (https://huggingface.co/openai-community/gpt2).\n",
      "Using a pipeline without specifying a model name and revision in production is not recommended.\n"
     ]
    },
    {
     "data": {
      "application/vnd.jupyter.widget-view+json": {
       "model_id": "337da8c8caac44fd91373bac49d39966",
       "version_major": 2,
       "version_minor": 0
      },
      "text/plain": [
       "config.json:   0%|          | 0.00/665 [00:00<?, ?B/s]"
      ]
     },
     "metadata": {},
     "output_type": "display_data"
    },
    {
     "name": "stderr",
     "output_type": "stream",
     "text": [
      "c:\\Users\\38067\\AppData\\Local\\Programs\\Python\\Python311\\Lib\\site-packages\\huggingface_hub\\file_download.py:143: UserWarning: `huggingface_hub` cache-system uses symlinks by default to efficiently store duplicated files but your machine does not support them in C:\\Users\\38067\\.cache\\huggingface\\hub\\models--openai-community--gpt2. Caching files will still work but in a degraded version that might require more space on your disk. This warning can be disabled by setting the `HF_HUB_DISABLE_SYMLINKS_WARNING` environment variable. For more details, see https://huggingface.co/docs/huggingface_hub/how-to-cache#limitations.\n",
      "To support symlinks on Windows, you either need to activate Developer Mode or to run Python as an administrator. In order to activate developer mode, see this article: https://docs.microsoft.com/en-us/windows/apps/get-started/enable-your-device-for-development\n",
      "  warnings.warn(message)\n",
      "Xet Storage is enabled for this repo, but the 'hf_xet' package is not installed. Falling back to regular HTTP download. For better performance, install the package with: `pip install huggingface_hub[hf_xet]` or `pip install hf_xet`\n"
     ]
    },
    {
     "data": {
      "application/vnd.jupyter.widget-view+json": {
       "model_id": "6e35610ea6fe4a7f881db16029b94e18",
       "version_major": 2,
       "version_minor": 0
      },
      "text/plain": [
       "model.safetensors:   0%|          | 0.00/548M [00:00<?, ?B/s]"
      ]
     },
     "metadata": {},
     "output_type": "display_data"
    },
    {
     "data": {
      "application/vnd.jupyter.widget-view+json": {
       "model_id": "c4025be7b9e041cdaaa2a4619b36b2a4",
       "version_major": 2,
       "version_minor": 0
      },
      "text/plain": [
       "generation_config.json:   0%|          | 0.00/124 [00:00<?, ?B/s]"
      ]
     },
     "metadata": {},
     "output_type": "display_data"
    },
    {
     "data": {
      "application/vnd.jupyter.widget-view+json": {
       "model_id": "3cd8e6e9ce1c4548a96cfea6fe410f75",
       "version_major": 2,
       "version_minor": 0
      },
      "text/plain": [
       "tokenizer_config.json:   0%|          | 0.00/26.0 [00:00<?, ?B/s]"
      ]
     },
     "metadata": {},
     "output_type": "display_data"
    },
    {
     "data": {
      "application/vnd.jupyter.widget-view+json": {
       "model_id": "da22ef578df04bedb035d61dd640e1c6",
       "version_major": 2,
       "version_minor": 0
      },
      "text/plain": [
       "vocab.json: 0.00B [00:00, ?B/s]"
      ]
     },
     "metadata": {},
     "output_type": "display_data"
    },
    {
     "data": {
      "application/vnd.jupyter.widget-view+json": {
       "model_id": "658e5217591d44eea6045e8b58270b3b",
       "version_major": 2,
       "version_minor": 0
      },
      "text/plain": [
       "merges.txt: 0.00B [00:00, ?B/s]"
      ]
     },
     "metadata": {},
     "output_type": "display_data"
    },
    {
     "data": {
      "application/vnd.jupyter.widget-view+json": {
       "model_id": "4afffad44e394849843de93eeec429fa",
       "version_major": 2,
       "version_minor": 0
      },
      "text/plain": [
       "tokenizer.json: 0.00B [00:00, ?B/s]"
      ]
     },
     "metadata": {},
     "output_type": "display_data"
    },
    {
     "name": "stderr",
     "output_type": "stream",
     "text": [
      "Device set to use cpu\n",
      "Setting `pad_token_id` to `eos_token_id`:50256 for open-end generation.\n"
     ]
    },
    {
     "data": {
      "text/plain": [
       "[{'generated_text': 'In this course, we will teach you how to build your own custom Windows 10 Enterprise Linux based virtual machine.\\n\\nPlease note that this course will not cover building your own custom Windows 10 virtual machine. We will be taking the following basic Windows 10 Enterprise Linux based virtual machine concepts, but you can also learn how to create your own virtual machine using the C:\\\\Windows\\\\User\\\\Software\\\\Microsoft\\\\Windows\\\\CurrentVersion\\\\Start Menu\\\\Virtualization\\\\Virtualization.\\n\\nWhat is a Virtual Machine?\\n\\nA virtual machine is a virtual machine that is used at the point of creation of the Windows 10 enterprise Linux operating system. A virtual machine is a virtual machine that is used for any purpose. A virtual machine is a virtual machine that is used by a user to perform some work on the Windows 10 network.\\n\\nA virtual machine is a virtual machine that is used to perform some work on the Windows 10 network. A virtual machine is a virtual machine in which the user can create an account and connect to a remote computer.\\n\\nA virtual machine is a virtual machine that exists in a machine store that has been created by the user, installed on a server, or created in a virtual machine, and the user can perform some work on the Windows 10 network.\\n\\nWhat are the different virtual machines'}]"
      ]
     },
     "execution_count": 5,
     "metadata": {},
     "output_type": "execute_result"
    }
   ],
   "source": [
    "generator = pipeline(\"text-generation\")\n",
    "generator(\"In this course, we will teach you how to\")"
   ]
  },
  {
   "cell_type": "code",
   "execution_count": null,
   "id": "a7d606fb",
   "metadata": {},
   "outputs": [],
   "source": [
    "'''You can control how many different sequences are generated with the argument num_return_sequences \n",
    "and the total length of the output text with the argument max_length.'''"
   ]
  },
  {
   "cell_type": "code",
   "execution_count": 6,
   "id": "3f141086",
   "metadata": {},
   "outputs": [
    {
     "name": "stderr",
     "output_type": "stream",
     "text": [
      "No model was supplied, defaulted to openai-community/gpt2 and revision 607a30d (https://huggingface.co/openai-community/gpt2).\n",
      "Using a pipeline without specifying a model name and revision in production is not recommended.\n",
      "Device set to use cpu\n",
      "Truncation was not explicitly activated but `max_length` is provided a specific value, please use `truncation=True` to explicitly truncate examples to max length. Defaulting to 'longest_first' truncation strategy. If you encode pairs of sequences (GLUE-style) with the tokenizer you can select this strategy more precisely by providing a specific strategy to `truncation`.\n",
      "Setting `pad_token_id` to `eos_token_id`:50256 for open-end generation.\n",
      "Both `max_new_tokens` (=256) and `max_length`(=15) seem to have been set. `max_new_tokens` will take precedence. Please refer to the documentation for more information. (https://huggingface.co/docs/transformers/main/en/main_classes/text_generation)\n"
     ]
    },
    {
     "data": {
      "text/plain": [
       "[{'generated_text': 'In this course, we will teach you how to0.01 to obtain a copy of the current version of the compiler, write the compiler that will run on your system, and write your application on Win32 or Windows. It is not required to have an existing GCC project installed.\\n\\nIn this course, we will be using the latest version of GCC in order to compile my application. It is not necessary to have an existing GCC project installed.\\n\\nIn this course, we will be using the latest version of GCC in order to compile my application. It is not necessary to have an existing GCC project installed.\\n\\nIn this course, we will be using the latest version of GCC in order to compile my application. It is not necessary to have an existing GCC project installed.\\n\\nIn this course, we will be using the latest version of GCC in order to compile my application. It is not necessary to have an existing GCC project installed.\\n\\nIn this course, we will be using the latest version of GCC in order to compile my application. It is not necessary to have an existing GCC project installed.\\n\\nIn this course, we will be using the latest version of GCC in order to compile my application. It is not necessary to have an existing GCC project installed.\\n\\nIn this course,'}]"
      ]
     },
     "execution_count": 6,
     "metadata": {},
     "output_type": "execute_result"
    }
   ],
   "source": [
    "generator = pipeline(\"text-generation\")\n",
    "generator(\"In this course, we will teach you how to0\", max_length=15)"
   ]
  },
  {
   "cell_type": "markdown",
   "id": "ce01a468",
   "metadata": {},
   "source": [
    "#### @Using any model from the Hub in a pipeline"
   ]
  },
  {
   "cell_type": "code",
   "execution_count": null,
   "id": "dc5c562f",
   "metadata": {},
   "outputs": [],
   "source": [
    "'''you can also choose a particular model from the Hub to use in a pipeline for a specific task'''"
   ]
  },
  {
   "cell_type": "code",
   "execution_count": null,
   "id": "aa5c0312",
   "metadata": {},
   "outputs": [],
   "source": [
    "generator = pipeline(\"text-generation\", model=\"HuggingFaceTB/SmolLM2-360M\")\n",
    "generator(\n",
    "    \"In this course, we will teach you how to\",\n",
    "    truncation=True,\n",
    "    num_return_sequences=2,\n",
    ")"
   ]
  },
  {
   "cell_type": "code",
   "execution_count": null,
   "id": "688027b7",
   "metadata": {},
   "outputs": [],
   "source": [
    "generator = pipeline(\"text-generation\", model=\"datificate/gpt2-small-spanish\")\n",
    "generator(\n",
    "    \"En este curso, le enseñaremos cómo\",\n",
    "    truncation=True,\n",
    "    num_return_sequences=2,\n",
    ")"
   ]
  },
  {
   "cell_type": "markdown",
   "id": "0739b278",
   "metadata": {},
   "source": [
    "---"
   ]
  },
  {
   "cell_type": "markdown",
   "id": "473e34a6",
   "metadata": {},
   "source": [
    "#### @Mask filling"
   ]
  },
  {
   "cell_type": "code",
   "execution_count": null,
   "id": "aed22ec2",
   "metadata": {},
   "outputs": [],
   "source": [
    "'''The next pipeline you’ll try is fill-mask. The idea of this task is to fill in the blanks in a given text'''"
   ]
  },
  {
   "cell_type": "code",
   "execution_count": null,
   "id": "ce8c4ffe",
   "metadata": {},
   "outputs": [],
   "source": [
    "unmasker = pipeline(\"fill-mask\")\n",
    "unmasker(\"This course will teach you all about <mask> models.\", top_k=2)"
   ]
  },
  {
   "cell_type": "code",
   "execution_count": null,
   "id": "07b97606",
   "metadata": {},
   "outputs": [],
   "source": [
    "'''The top_k argument controls how many possibilities you want to be displayed'''"
   ]
  },
  {
   "cell_type": "code",
   "execution_count": null,
   "id": "e515e231",
   "metadata": {},
   "outputs": [],
   "source": [
    "unmasker_bert = pipeline('fill-mask', model='bert-base-cased')\n",
    "unmasker_bert(\"This course will teach you all about <mask> models.\", top_k=2)"
   ]
  },
  {
   "cell_type": "markdown",
   "id": "e93a1319",
   "metadata": {},
   "source": [
    "---"
   ]
  },
  {
   "cell_type": "markdown",
   "id": "6fe1327c",
   "metadata": {},
   "source": [
    "#### @Named entity recognition"
   ]
  },
  {
   "cell_type": "code",
   "execution_count": null,
   "id": "63d41f0b",
   "metadata": {},
   "outputs": [],
   "source": [
    "'''Named entity recognition (NER) is a task where the model has to find which parts of the input text correspond \n",
    "to entities such as persons, locations, or organizations'''"
   ]
  },
  {
   "cell_type": "code",
   "execution_count": null,
   "id": "5309854b",
   "metadata": {},
   "outputs": [],
   "source": [
    "ner = pipeline(\"ner\", grouped_entities=True)\n",
    "ner(\"My name is Sylvain and I work at Hugging Face in Brooklyn.\")"
   ]
  },
  {
   "cell_type": "code",
   "execution_count": null,
   "id": "934d82a8",
   "metadata": {},
   "outputs": [],
   "source": [
    "'''Here the model correctly identified that Sylvain is a person (PER), Hugging Face an organization (ORG), \n",
    "and Brooklyn a location (LOC).'''"
   ]
  },
  {
   "cell_type": "markdown",
   "id": "2b24496b",
   "metadata": {},
   "source": [
    "✏️ Try it out! Search the Model Hub for a model able to do part-of-speech tagging (usually abbreviated as POS) in English. What does this model predict for the sentence in the example above?"
   ]
  },
  {
   "cell_type": "code",
   "execution_count": null,
   "id": "a4af6d39",
   "metadata": {},
   "outputs": [],
   "source": [
    "'''\n",
    "This is the standard part-of-speech tagging model for English that ships with Flair.\n",
    "\n",
    "F1-Score: 98,19 (Ontonotes)\n",
    "\n",
    "Predicts fine-grained POS tags:\n",
    "'''"
   ]
  },
  {
   "cell_type": "code",
   "execution_count": null,
   "id": "824528a5",
   "metadata": {},
   "outputs": [],
   "source": [
    "ner = pipeline(\"flair/pos-english\", grouped_entities=True)\n",
    "ner(\"My name is Sylvain and I work at Hugging Face in Brooklyn.\")"
   ]
  },
  {
   "cell_type": "markdown",
   "id": "c77fba78",
   "metadata": {},
   "source": [
    "---"
   ]
  },
  {
   "cell_type": "markdown",
   "id": "11f4c867",
   "metadata": {},
   "source": [
    "#### @Question answering"
   ]
  },
  {
   "cell_type": "code",
   "execution_count": null,
   "id": "f5325cd5",
   "metadata": {},
   "outputs": [],
   "source": [
    "'''The question-answering pipeline answers questions using information from a given context:'''"
   ]
  },
  {
   "cell_type": "code",
   "execution_count": null,
   "id": "79f3b224",
   "metadata": {},
   "outputs": [],
   "source": [
    "question_answerer = pipeline(\"question-answering\")\n",
    "question_answerer(\n",
    "    question=\"Where do I work?\",\n",
    "    context=\"My name is Sylvain and I work at Hugging Face in Brooklyn\",\n",
    ")"
   ]
  },
  {
   "cell_type": "code",
   "execution_count": null,
   "id": "a7420f2c",
   "metadata": {},
   "outputs": [],
   "source": [
    "'''{'score': 0.6385916471481323, 'start': 33, 'end': 45, 'answer': 'Hugging Face'}'''"
   ]
  },
  {
   "cell_type": "markdown",
   "id": "aa1c328a",
   "metadata": {},
   "source": [
    "---"
   ]
  },
  {
   "cell_type": "markdown",
   "id": "9171abcc",
   "metadata": {},
   "source": [
    "#### @Summarization"
   ]
  },
  {
   "cell_type": "code",
   "execution_count": null,
   "id": "90206c7a",
   "metadata": {},
   "outputs": [],
   "source": [
    "'''Summarization is the task of reducing a text into a shorter text while keeping all (or most) \n",
    "of the important aspects referenced in the text'''"
   ]
  },
  {
   "cell_type": "code",
   "execution_count": null,
   "id": "26568856",
   "metadata": {},
   "outputs": [],
   "source": [
    "from transformers import pipeline\n",
    "\n",
    "summarizer = pipeline(\"summarization\")\n",
    "summarizer(\n",
    "    \"\"\"\n",
    "    America has changed dramatically during recent years. Not only has the number of \n",
    "    graduates in traditional engineering disciplines such as mechanical, civil, \n",
    "    electrical, chemical, and aeronautical engineering declined, but in most of \n",
    "    the premier American universities engineering curricula now concentrate on \n",
    "    and encourage largely the study of engineering science. As a result, there \n",
    "    are declining offerings in engineering subjects dealing with infrastructure, \n",
    "    the environment, and related issues, and greater concentration on high \n",
    "    technology subjects, largely supporting increasingly complex scientific \n",
    "    developments. While the latter is important, it should not be at the expense \n",
    "    of more traditional engineering.\n",
    "\n",
    "    Rapidly developing economies such as China and India, as well as other \n",
    "    industrial countries in Europe and Asia, continue to encourage and advance \n",
    "    the teaching of engineering. Both China and India, respectively, graduate \n",
    "    six and eight times as many traditional engineers as does the United States. \n",
    "    Other industrial countries at minimum maintain their output, while America \n",
    "    suffers an increasingly serious decline in the number of engineering graduates \n",
    "    and a lack of well-educated engineers.\n",
    "\"\"\")"
   ]
  },
  {
   "cell_type": "code",
   "execution_count": null,
   "id": "18abc77a",
   "metadata": {},
   "outputs": [],
   "source": [
    "'''[{'summary_text': ' America has changed dramatically during recent years . The '\n",
    "                  'number of engineering graduates in the U.S. has declined in '\n",
    "                  'traditional engineering disciplines such as mechanical, civil '\n",
    "                  ', electrical, chemical, and aeronautical engineering . Rapidly '\n",
    "                  'developing economies such as China and India, as well as other '\n",
    "                  'industrial countries in Europe and Asia, continue to encourage '\n",
    "                  'and advance engineering .'}]'''"
   ]
  },
  {
   "cell_type": "code",
   "execution_count": null,
   "id": "8bf23d00",
   "metadata": {},
   "outputs": [],
   "source": [
    "'''Like with text generation, you can specify a max_length or a min_length for the result.'''"
   ]
  },
  {
   "cell_type": "markdown",
   "id": "b70fc86d",
   "metadata": {},
   "source": [
    "---"
   ]
  },
  {
   "cell_type": "markdown",
   "id": "9f53c45e",
   "metadata": {},
   "source": [
    "#### @Translation"
   ]
  },
  {
   "cell_type": "code",
   "execution_count": null,
   "id": "b2a634d4",
   "metadata": {},
   "outputs": [],
   "source": [
    "'''For translation, you can use a default model if you provide a language pair in the task name (such as \"translation_en_to_fr\"), \n",
    "but the easiest way is to pick the model you want to use on the Model Hub'''"
   ]
  },
  {
   "cell_type": "code",
   "execution_count": null,
   "id": "0e9c9cf5",
   "metadata": {},
   "outputs": [],
   "source": [
    "from transformers import pipeline\n",
    "\n",
    "translator = pipeline(\"translation\", model=\"Helsinki-NLP/opus-mt-fr-en\")\n",
    "translator(\"Ce cours est produit par Hugging Face.\")"
   ]
  },
  {
   "cell_type": "code",
   "execution_count": null,
   "id": "92a87f47",
   "metadata": {},
   "outputs": [],
   "source": [
    "'''Like with text generation and summarization, you can specify a max_length or a min_length for the result.'''"
   ]
  },
  {
   "cell_type": "markdown",
   "id": "4c924215",
   "metadata": {},
   "source": [
    "---"
   ]
  },
  {
   "cell_type": "markdown",
   "id": "e2263178",
   "metadata": {},
   "source": [
    "#### @Image and audio pipelines"
   ]
  },
  {
   "cell_type": "code",
   "execution_count": null,
   "id": "fe696c33",
   "metadata": {},
   "outputs": [],
   "source": [
    "'''Beyond text, Transformer models can also work with images and audio'''"
   ]
  },
  {
   "cell_type": "markdown",
   "id": "0256140b",
   "metadata": {},
   "source": [
    "#### @1 Image classification"
   ]
  },
  {
   "cell_type": "code",
   "execution_count": null,
   "id": "ac835555",
   "metadata": {},
   "outputs": [],
   "source": [
    "from transformers import pipeline\n",
    "\n",
    "image_classifier = pipeline(\n",
    "    task=\"image-classification\", model=\"google/vit-base-patch16-224\"\n",
    ")\n",
    "result = image_classifier(\n",
    "    \"https://huggingface.co/datasets/huggingface/documentation-images/resolve/main/pipeline-cat-chonk.jpeg\"\n",
    ")\n",
    "print(result)"
   ]
  },
  {
   "cell_type": "code",
   "execution_count": null,
   "id": "cce8d86e",
   "metadata": {},
   "outputs": [],
   "source": [
    "'''\n",
    "[{'label': 'lynx, catamount', 'score': 0.43350091576576233},\n",
    " {'label': 'cougar, puma, catamount, mountain lion, painter, panther, Felis concolor',\n",
    "  'score': 0.034796204417943954},\n",
    " {'label': 'snow leopard, ounce, Panthera uncia',\n",
    "  'score': 0.03240183740854263},\n",
    " {'label': 'Egyptian cat', 'score': 0.02394474856555462},\n",
    " {'label': 'tiger cat', 'score': 0.02288915030658245}]\n",
    "'''"
   ]
  },
  {
   "cell_type": "markdown",
   "id": "88f01b76",
   "metadata": {},
   "source": [
    "---"
   ]
  },
  {
   "cell_type": "markdown",
   "id": "d47ab3c5",
   "metadata": {},
   "source": [
    "#### @Automatic speech recognition"
   ]
  },
  {
   "cell_type": "code",
   "execution_count": null,
   "id": "762fa4b3",
   "metadata": {},
   "outputs": [],
   "source": [
    "from transformers import pipeline\n",
    "\n",
    "transcriber = pipeline(\n",
    "    task=\"automatic-speech-recognition\", model=\"openai/whisper-large-v3\"\n",
    ")\n",
    "result = transcriber(\n",
    "    \"https://huggingface.co/datasets/Narsil/asr_dummy/resolve/main/mlk.flac\"\n",
    ")\n",
    "print(result)"
   ]
  },
  {
   "cell_type": "code",
   "execution_count": null,
   "id": "186991b6",
   "metadata": {},
   "outputs": [],
   "source": [
    "'''{'text': ' I have a dream that one day this nation will rise up and live out the true meaning of its creed.'}'''"
   ]
  }
 ],
 "metadata": {
  "kernelspec": {
   "display_name": "Python 3",
   "language": "python",
   "name": "python3"
  },
  "language_info": {
   "codemirror_mode": {
    "name": "ipython",
    "version": 3
   },
   "file_extension": ".py",
   "mimetype": "text/x-python",
   "name": "python",
   "nbconvert_exporter": "python",
   "pygments_lexer": "ipython3",
   "version": "3.11.0"
  }
 },
 "nbformat": 4,
 "nbformat_minor": 5
}
